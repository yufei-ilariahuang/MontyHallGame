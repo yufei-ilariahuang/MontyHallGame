{
  "cells": [
    {
      "cell_type": "code",
      "execution_count": null,
      "id": "6f53fa2b",
      "metadata": {
        "id": "6f53fa2b"
      },
      "outputs": [],
      "source": [
        "import numpy as np\n",
        "import pandas as pd\n",
        "import random\n",
        "import matplotlib as plt\n",
        "import matplotlib.pyplot as plt"
      ]
    },
    {
      "cell_type": "code",
      "execution_count": null,
      "id": "b9161fed",
      "metadata": {
        "id": "b9161fed"
      },
      "outputs": [],
      "source": [
        "# normal question"
      ]
    },
    {
      "cell_type": "code",
      "execution_count": null,
      "id": "483535fa",
      "metadata": {
        "id": "483535fa"
      },
      "outputs": [],
      "source": [
        "def doors_array():\n",
        "    '''\n",
        "    the function is desigend for initialize the door list\n",
        "    And if the gift behind the door, we mark it as 1, otherwise, it is 0\n",
        "    '''\n",
        "    doors = [0,0,0]\n",
        "    gift_i = random.randint(0,2)\n",
        "    doors[gift_i] = 1\n",
        "    return doors,gift_i\n",
        "\n",
        "def win_loose(doors_array,change):\n",
        "    '''\n",
        "    the function is desigend for check if the guest win the game based on two stratgies\n",
        "\n",
        "    change: the string the represented change a door or not\n",
        "        change: switch to another unopend door\n",
        "        unchange: stick in the initial choice\n",
        "\n",
        "    Output:\n",
        "        win_change_nums: if the guest win the game, we collect 1 point, otherwise, collect 0 point\n",
        "        choose_i: the initial chooice\n",
        "        gift_i: the door which hide the gift\n",
        "        change_choose_i: final decision of the guest\n",
        "        host_i: the door opened by the host\n",
        "    '''\n",
        "    #users choose a door\n",
        "    choose_i = random.randint(0,2)\n",
        "    doors = doors_array()[0]\n",
        "    gift_i = doors_array()[1]\n",
        "    # host open the door\n",
        "    host_i = -1\n",
        "    for i in range(len(doors)):\n",
        "        if doors[i] != 1 and i != choose_i:\n",
        "            host_i = i\n",
        "            break\n",
        "    # user1 -- unchange\n",
        "    if change == 'unchange':\n",
        "        win_unchange_nums = 0\n",
        "        if doors[choose_i] == 1:\n",
        "            win_unchange_nums +=1\n",
        "        change_choose_i = choose_i\n",
        "        return win_unchange_nums,choose_i,gift_i,change_choose_i,host_i\n",
        "\n",
        "    if change == 'change':\n",
        "        win_change_nums = 0\n",
        "        for i in range(len(doors)):\n",
        "            if i != host_i and i != choose_i:\n",
        "                change_choose_i = i\n",
        "        if doors[change_choose_i] == 1:\n",
        "            win_change_nums+=1\n",
        "        return win_change_nums,choose_i,gift_i,change_choose_i,host_i"
      ]
    },
    {
      "cell_type": "code",
      "execution_count": null,
      "id": "12528c4b",
      "metadata": {
        "id": "12528c4b"
      },
      "outputs": [],
      "source": [
        "# get the results\n",
        "def total_results(times,change_or_not,doors_array,win_loose):\n",
        "    '''\n",
        "    the function is designed for help us to run the model multiple times and collect results\n",
        "\n",
        "    Args:\n",
        "    times: how many times we play\n",
        "    change_or_not: the string that represented change the door or not\n",
        "    doors_array: the function that represented initilize the door list\n",
        "    win_loose: the function that generate the result of each time\n",
        "\n",
        "    Outputs:\n",
        "    total_door: the list represented the three doors\n",
        "    win_or_lose: the result of playing the game\n",
        "    open_door: the user's initial choice\n",
        "    gift_door: the door that hide the gift\n",
        "    host_door: the door opened by the host\n",
        "    final_open: the user's final decision\n",
        "    prob_win: the probability of winning the game\n",
        "\n",
        "    '''\n",
        "    times_num = times\n",
        "\n",
        "    # Behind Door\n",
        "    total_door = []\n",
        "\n",
        "    # if the car(1) behind the door, get 1 point; if the sheep(0) behind the door, get 0 point\n",
        "    win_or_lose = []\n",
        "\n",
        "    # initial choice of the door\n",
        "    open_door = []\n",
        "\n",
        "    # the gift behind this door\n",
        "    gift_door = []\n",
        "\n",
        "    # the door opened by the host\n",
        "    host_door = []\n",
        "\n",
        "    # final decision of the user\n",
        "    final_open = []\n",
        "    for i in range(times):\n",
        "        total_door.append(doors_array()[0])\n",
        "        doors_result = win_loose(doors_array,change_or_not)\n",
        "        win_or_lose.append(doors_result[0])\n",
        "        open_door.append(doors_result[1])\n",
        "        gift_door.append(doors_result[2])\n",
        "        final_open.append(doors_result[3])\n",
        "        host_door.append(doors_result[4])\n",
        "\n",
        "    #the probability of win the game (the car behind the door)\n",
        "    prob_win = sum(win_or_lose)/times\n",
        "\n",
        "    return total_door,win_or_lose,open_door,gift_door,host_door,final_open, prob_win"
      ]
    },
    {
      "cell_type": "code",
      "execution_count": null,
      "id": "cae1031d",
      "metadata": {
        "id": "cae1031d"
      },
      "outputs": [],
      "source": []
    },
    {
      "cell_type": "code",
      "execution_count": null,
      "id": "061b4760",
      "metadata": {
        "id": "061b4760"
      },
      "outputs": [],
      "source": [
        "#generate a table to visualize results\n",
        "times = 100\n",
        "total_unchange_result = total_results(times,'unchange',doors_array,win_loose)\n",
        "unchange_result = pd.DataFrame({'Behind Door':total_unchange_result[0],\n",
        "                        'Unchange: Initial Choice':total_unchange_result[2],\n",
        "                        'Unchange: Host Choice':total_unchange_result[4],\n",
        "                        'Unchange: Final Decision': total_unchange_result[5],\n",
        "                        'Unchange: Gift': total_unchange_result[3],\n",
        "                        'Unchange: Win or Lose':total_unchange_result[1]})\n",
        "prob_win_unchange = total_unchange_result[-1]\n",
        "\n",
        "total_change_result = total_results(times,'change',doors_array,win_loose)\n",
        "change_result = pd.DataFrame({'Behind Door':total_change_result[0],\n",
        "                        'Change: Initial Choice':total_change_result[2],\n",
        "                        'Change: Host Choice':total_change_result[4],\n",
        "                        'Change: Final Decision': total_change_result[5],\n",
        "                        'Change: Gift': total_change_result[3],\n",
        "                        'Change: Win or Lose':total_change_result[1]})\n",
        "prob_win_change = total_change_result[-1]"
      ]
    },
    {
      "cell_type": "code",
      "execution_count": null,
      "id": "c9f22f22",
      "metadata": {
        "id": "c9f22f22",
        "outputId": "21de7356-54e6-4360-b6e4-a38ecb47e302"
      },
      "outputs": [
        {
          "data": {
            "text/plain": [
              "Text(0, 0.5, 'Score')"
            ]
          },
          "execution_count": 19,
          "metadata": {},
          "output_type": "execute_result"
        },
        {
          "data": {
            "image/png": "[encoded data removed]",
            "text/plain": [
              "<Figure size 1080x432 with 1 Axes>"
            ]
          },
          "metadata": {
            "needs_background": "light"
          },
          "output_type": "display_data"
        }
      ],
      "source": [
        "# plot the results for one sub sample\n",
        "plt.figure(figsize=(15,6))\n",
        "plt.plot([prob_win_unchange]*times,color = 'black',label = 'The probabilty of win the game if unchange the door')\n",
        "plt.scatter(range(times),unchange_result['Unchange: Win or Lose'],color = 'black',label = 'Unhange the Door:{}'.format(prob_win_unchange))\n",
        "plt.plot([prob_win_change]*times,color = 'pink',label = 'The probabilty of win the game if change the door')\n",
        "plt.scatter(range(times),change_result['Change: Win or Lose'],color = 'pink',label = 'Change the Door:{}'.format(prob_win_change))\n",
        "plt.legend(loc='center left', bbox_to_anchor=(1, 0.5))\n",
        "plt.title('Unchange Vs Change the Door')\n",
        "plt.xlabel('Times')\n",
        "plt.ylabel('Score')"
      ]
    },
    {
      "cell_type": "code",
      "execution_count": null,
      "id": "bb9bd688",
      "metadata": {
        "id": "bb9bd688",
        "outputId": "ba0e10bc-70ce-47d3-f894-65aba9710461"
      },
      "outputs": [
        {
          "data": {
            "text/html": [
              "<div>\n",
              "<style scoped>\n",
              "    .dataframe tbody tr th:only-of-type {\n",
              "        vertical-align: middle;\n",
              "    }\n",
              "\n",
              "    .dataframe tbody tr th {\n",
              "        vertical-align: top;\n",
              "    }\n",
              "\n",
              "    .dataframe thead th {\n",
              "        text-align: right;\n",
              "    }\n",
              "</style>\n",
              "<table border=\"1\" class=\"dataframe\">\n",
              "  <thead>\n",
              "    <tr style=\"text-align: right;\">\n",
              "      <th></th>\n",
              "      <th>Behind Door</th>\n",
              "      <th>Unchange: Initial Choice</th>\n",
              "      <th>Unchange: Host Choice</th>\n",
              "      <th>Unchange: Final Decision</th>\n",
              "      <th>Unchange: Gift</th>\n",
              "      <th>Unchange: Win or Lose</th>\n",
              "    </tr>\n",
              "  </thead>\n",
              "  <tbody>\n",
              "    <tr>\n",
              "      <th>0</th>\n",
              "      <td>[0, 1, 0]</td>\n",
              "      <td>0</td>\n",
              "      <td>1</td>\n",
              "      <td>0</td>\n",
              "      <td>0</td>\n",
              "      <td>0</td>\n",
              "    </tr>\n",
              "    <tr>\n",
              "      <th>1</th>\n",
              "      <td>[0, 0, 1]</td>\n",
              "      <td>2</td>\n",
              "      <td>0</td>\n",
              "      <td>2</td>\n",
              "      <td>2</td>\n",
              "      <td>0</td>\n",
              "    </tr>\n",
              "    <tr>\n",
              "      <th>2</th>\n",
              "      <td>[0, 1, 0]</td>\n",
              "      <td>1</td>\n",
              "      <td>2</td>\n",
              "      <td>1</td>\n",
              "      <td>0</td>\n",
              "      <td>0</td>\n",
              "    </tr>\n",
              "    <tr>\n",
              "      <th>3</th>\n",
              "      <td>[0, 1, 0]</td>\n",
              "      <td>0</td>\n",
              "      <td>1</td>\n",
              "      <td>0</td>\n",
              "      <td>0</td>\n",
              "      <td>1</td>\n",
              "    </tr>\n",
              "    <tr>\n",
              "      <th>4</th>\n",
              "      <td>[1, 0, 0]</td>\n",
              "      <td>2</td>\n",
              "      <td>0</td>\n",
              "      <td>2</td>\n",
              "      <td>1</td>\n",
              "      <td>1</td>\n",
              "    </tr>\n",
              "    <tr>\n",
              "      <th>...</th>\n",
              "      <td>...</td>\n",
              "      <td>...</td>\n",
              "      <td>...</td>\n",
              "      <td>...</td>\n",
              "      <td>...</td>\n",
              "      <td>...</td>\n",
              "    </tr>\n",
              "    <tr>\n",
              "      <th>95</th>\n",
              "      <td>[1, 0, 0]</td>\n",
              "      <td>2</td>\n",
              "      <td>0</td>\n",
              "      <td>2</td>\n",
              "      <td>2</td>\n",
              "      <td>0</td>\n",
              "    </tr>\n",
              "    <tr>\n",
              "      <th>96</th>\n",
              "      <td>[0, 1, 0]</td>\n",
              "      <td>0</td>\n",
              "      <td>1</td>\n",
              "      <td>0</td>\n",
              "      <td>0</td>\n",
              "      <td>0</td>\n",
              "    </tr>\n",
              "    <tr>\n",
              "      <th>97</th>\n",
              "      <td>[1, 0, 0]</td>\n",
              "      <td>1</td>\n",
              "      <td>2</td>\n",
              "      <td>1</td>\n",
              "      <td>2</td>\n",
              "      <td>0</td>\n",
              "    </tr>\n",
              "    <tr>\n",
              "      <th>98</th>\n",
              "      <td>[1, 0, 0]</td>\n",
              "      <td>0</td>\n",
              "      <td>2</td>\n",
              "      <td>0</td>\n",
              "      <td>0</td>\n",
              "      <td>0</td>\n",
              "    </tr>\n",
              "    <tr>\n",
              "      <th>99</th>\n",
              "      <td>[1, 0, 0]</td>\n",
              "      <td>1</td>\n",
              "      <td>0</td>\n",
              "      <td>1</td>\n",
              "      <td>1</td>\n",
              "      <td>0</td>\n",
              "    </tr>\n",
              "  </tbody>\n",
              "</table>\n",
              "<p>100 rows × 6 columns</p>\n",
              "</div>"
            ],
            "text/plain": [
              "   Behind Door  Unchange: Initial Choice  Unchange: Host Choice  \\\n",
              "0    [0, 1, 0]                         0                      1   \n",
              "1    [0, 0, 1]                         2                      0   \n",
              "2    [0, 1, 0]                         1                      2   \n",
              "3    [0, 1, 0]                         0                      1   \n",
              "4    [1, 0, 0]                         2                      0   \n",
              "..         ...                       ...                    ...   \n",
              "95   [1, 0, 0]                         2                      0   \n",
              "96   [0, 1, 0]                         0                      1   \n",
              "97   [1, 0, 0]                         1                      2   \n",
              "98   [1, 0, 0]                         0                      2   \n",
              "99   [1, 0, 0]                         1                      0   \n",
              "\n",
              "    Unchange: Final Decision  Unchange: Gift  Unchange: Win or Lose  \n",
              "0                          0               0                      0  \n",
              "1                          2               2                      0  \n",
              "2                          1               0                      0  \n",
              "3                          0               0                      1  \n",
              "4                          2               1                      1  \n",
              "..                       ...             ...                    ...  \n",
              "95                         2               2                      0  \n",
              "96                         0               0                      0  \n",
              "97                         1               2                      0  \n",
              "98                         0               0                      0  \n",
              "99                         1               1                      0  \n",
              "\n",
              "[100 rows x 6 columns]"
            ]
          },
          "execution_count": 17,
          "metadata": {},
          "output_type": "execute_result"
        }
      ],
      "source": [
        "unchange_result"
      ]
    },
    {
      "cell_type": "code",
      "execution_count": null,
      "id": "f07779a6",
      "metadata": {
        "id": "f07779a6",
        "outputId": "d22deaa1-c91d-444b-e958-6723b3d1213d"
      },
      "outputs": [
        {
          "data": {
            "text/html": [
              "<div>\n",
              "<style scoped>\n",
              "    .dataframe tbody tr th:only-of-type {\n",
              "        vertical-align: middle;\n",
              "    }\n",
              "\n",
              "    .dataframe tbody tr th {\n",
              "        vertical-align: top;\n",
              "    }\n",
              "\n",
              "    .dataframe thead th {\n",
              "        text-align: right;\n",
              "    }\n",
              "</style>\n",
              "<table border=\"1\" class=\"dataframe\">\n",
              "  <thead>\n",
              "    <tr style=\"text-align: right;\">\n",
              "      <th></th>\n",
              "      <th>Behind Door</th>\n",
              "      <th>Change: Initial Choice</th>\n",
              "      <th>Change: Host Choice</th>\n",
              "      <th>Change: Final Decision</th>\n",
              "      <th>Change: Gift</th>\n",
              "      <th>Change: Win or Lose</th>\n",
              "    </tr>\n",
              "  </thead>\n",
              "  <tbody>\n",
              "    <tr>\n",
              "      <th>0</th>\n",
              "      <td>[0, 1, 0]</td>\n",
              "      <td>0</td>\n",
              "      <td>1</td>\n",
              "      <td>2</td>\n",
              "      <td>1</td>\n",
              "      <td>1</td>\n",
              "    </tr>\n",
              "    <tr>\n",
              "      <th>1</th>\n",
              "      <td>[1, 0, 0]</td>\n",
              "      <td>0</td>\n",
              "      <td>1</td>\n",
              "      <td>2</td>\n",
              "      <td>0</td>\n",
              "      <td>0</td>\n",
              "    </tr>\n",
              "    <tr>\n",
              "      <th>2</th>\n",
              "      <td>[0, 0, 1]</td>\n",
              "      <td>2</td>\n",
              "      <td>0</td>\n",
              "      <td>1</td>\n",
              "      <td>2</td>\n",
              "      <td>1</td>\n",
              "    </tr>\n",
              "    <tr>\n",
              "      <th>3</th>\n",
              "      <td>[0, 0, 1]</td>\n",
              "      <td>1</td>\n",
              "      <td>0</td>\n",
              "      <td>2</td>\n",
              "      <td>1</td>\n",
              "      <td>0</td>\n",
              "    </tr>\n",
              "    <tr>\n",
              "      <th>4</th>\n",
              "      <td>[0, 1, 0]</td>\n",
              "      <td>0</td>\n",
              "      <td>1</td>\n",
              "      <td>2</td>\n",
              "      <td>2</td>\n",
              "      <td>1</td>\n",
              "    </tr>\n",
              "    <tr>\n",
              "      <th>...</th>\n",
              "      <td>...</td>\n",
              "      <td>...</td>\n",
              "      <td>...</td>\n",
              "      <td>...</td>\n",
              "      <td>...</td>\n",
              "      <td>...</td>\n",
              "    </tr>\n",
              "    <tr>\n",
              "      <th>95</th>\n",
              "      <td>[0, 0, 1]</td>\n",
              "      <td>2</td>\n",
              "      <td>0</td>\n",
              "      <td>1</td>\n",
              "      <td>1</td>\n",
              "      <td>0</td>\n",
              "    </tr>\n",
              "    <tr>\n",
              "      <th>96</th>\n",
              "      <td>[0, 1, 0]</td>\n",
              "      <td>2</td>\n",
              "      <td>0</td>\n",
              "      <td>1</td>\n",
              "      <td>0</td>\n",
              "      <td>1</td>\n",
              "    </tr>\n",
              "    <tr>\n",
              "      <th>97</th>\n",
              "      <td>[0, 0, 1]</td>\n",
              "      <td>0</td>\n",
              "      <td>2</td>\n",
              "      <td>1</td>\n",
              "      <td>1</td>\n",
              "      <td>1</td>\n",
              "    </tr>\n",
              "    <tr>\n",
              "      <th>98</th>\n",
              "      <td>[1, 0, 0]</td>\n",
              "      <td>1</td>\n",
              "      <td>2</td>\n",
              "      <td>0</td>\n",
              "      <td>2</td>\n",
              "      <td>1</td>\n",
              "    </tr>\n",
              "    <tr>\n",
              "      <th>99</th>\n",
              "      <td>[0, 0, 1]</td>\n",
              "      <td>1</td>\n",
              "      <td>0</td>\n",
              "      <td>2</td>\n",
              "      <td>2</td>\n",
              "      <td>1</td>\n",
              "    </tr>\n",
              "  </tbody>\n",
              "</table>\n",
              "<p>100 rows × 6 columns</p>\n",
              "</div>"
            ],
            "text/plain": [
              "   Behind Door  Change: Initial Choice  Change: Host Choice  \\\n",
              "0    [0, 1, 0]                       0                    1   \n",
              "1    [1, 0, 0]                       0                    1   \n",
              "2    [0, 0, 1]                       2                    0   \n",
              "3    [0, 0, 1]                       1                    0   \n",
              "4    [0, 1, 0]                       0                    1   \n",
              "..         ...                     ...                  ...   \n",
              "95   [0, 0, 1]                       2                    0   \n",
              "96   [0, 1, 0]                       2                    0   \n",
              "97   [0, 0, 1]                       0                    2   \n",
              "98   [1, 0, 0]                       1                    2   \n",
              "99   [0, 0, 1]                       1                    0   \n",
              "\n",
              "    Change: Final Decision  Change: Gift  Change: Win or Lose  \n",
              "0                        2             1                    1  \n",
              "1                        2             0                    0  \n",
              "2                        1             2                    1  \n",
              "3                        2             1                    0  \n",
              "4                        2             2                    1  \n",
              "..                     ...           ...                  ...  \n",
              "95                       1             1                    0  \n",
              "96                       1             0                    1  \n",
              "97                       1             1                    1  \n",
              "98                       0             2                    1  \n",
              "99                       2             2                    1  \n",
              "\n",
              "[100 rows x 6 columns]"
            ]
          },
          "execution_count": 18,
          "metadata": {},
          "output_type": "execute_result"
        }
      ],
      "source": [
        "change_result"
      ]
    },
    {
      "cell_type": "code",
      "execution_count": null,
      "id": "684cd9b0",
      "metadata": {
        "id": "684cd9b0"
      },
      "outputs": [],
      "source": [
        "# statisical analysis"
      ]
    },
    {
      "cell_type": "code",
      "execution_count": null,
      "id": "2e48ed8b",
      "metadata": {
        "id": "2e48ed8b"
      },
      "outputs": [],
      "source": [
        "def average_win(total_results,times,change_or_not,doors_array,win_loose):\n",
        "    '''\n",
        "    the function is help us to calculate the average probability of winning the gift\n",
        "\n",
        "    output:\n",
        "    result: the list represented the probability of winning the game of each sub sample\n",
        "    avg_prob: the average probability of winning the game\n",
        "    '''\n",
        "    result = []\n",
        "    for i in range(times):\n",
        "        total_result = total_results(times,change_or_not,doors_array,win_loose)\n",
        "        result.append(total_result[-1])\n",
        "    avg_prob = round(sum(result)/len(result),4)\n",
        "    return result, avg_prob"
      ]
    },
    {
      "cell_type": "code",
      "execution_count": null,
      "id": "a7be54b7",
      "metadata": {
        "id": "a7be54b7"
      },
      "outputs": [],
      "source": [
        "times = 1000\n",
        "unchange_result = average_win(total_results,times,'unchange',doors_array,win_loose)[0]\n",
        "unchange_avg_prob = average_win(total_results,times,'unchange',doors_array,win_loose)[1]\n",
        "change_result = average_win(total_results,times,'change',doors_array,win_loose)[0]\n",
        "change_avg_prob = average_win(total_results,times,'change',doors_array,win_loose)[1]"
      ]
    },
    {
      "cell_type": "code",
      "execution_count": null,
      "id": "c6554d0c",
      "metadata": {
        "id": "c6554d0c",
        "outputId": "91d20824-bf7f-4c6f-ea48-66946057ee34"
      },
      "outputs": [
        {
          "data": {
            "text/plain": [
              "(0.0, 1.0)"
            ]
          },
          "execution_count": 78,
          "metadata": {},
          "output_type": "execute_result"
        },
        {
          "data": {
            "image/png": "[encoded data removed]",
            "text/plain": [
              "<Figure size 720x432 with 1 Axes>"
            ]
          },
          "metadata": {
            "needs_background": "light"
          },
          "output_type": "display_data"
        }
      ],
      "source": [
        "plt.figure(figsize=(10,6))\n",
        "plt.plot(change_result,color = 'khaki',label = 'The probabilty of win the game if change the door')\n",
        "plt.plot([change_avg_prob]*times,color = 'olive',label = 'Swithcing Strategy:{}'.format(change_avg_prob))\n",
        "plt.plot(unchange_result,color = 'bisque',label = 'The probabilty of win the game if unchange the door')\n",
        "plt.plot([unchange_avg_prob]*times,color = 'darkorange',label = 'Sticking Strategy:{}'.format(unchange_avg_prob))\n",
        "plt.legend(loc='center left', bbox_to_anchor=(1, 0.5))\n",
        "plt.title('Unchange Vs Change the Door')\n",
        "plt.xlabel('Times')\n",
        "plt.ylabel('Score')\n",
        "plt.ylim(0, 1)"
      ]
    },
    {
      "cell_type": "code",
      "execution_count": null,
      "id": "d8f552b0",
      "metadata": {
        "id": "d8f552b0"
      },
      "outputs": [],
      "source": []
    },
    {
      "cell_type": "code",
      "execution_count": null,
      "id": "685445d0",
      "metadata": {
        "id": "685445d0"
      },
      "outputs": [],
      "source": []
    }
  ],
  "metadata": {
    "kernelspec": {
      "display_name": "Python 3 (ipykernel)",
      "language": "python",
      "name": "python3"
    },
    "language_info": {
      "codemirror_mode": {
        "name": "ipython",
        "version": 3
      },
      "file_extension": ".py",
      "mimetype": "text/x-python",
      "name": "python",
      "nbconvert_exporter": "python",
      "pygments_lexer": "ipython3",
      "version": "3.9.12"
    },
    "colab": {
      "provenance": []
    }
  },
  "nbformat": 4,
  "nbformat_minor": 5
}